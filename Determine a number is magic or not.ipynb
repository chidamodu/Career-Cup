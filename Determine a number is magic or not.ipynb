{
 "cells": [
  {
   "cell_type": "code",
   "execution_count": 16,
   "metadata": {},
   "outputs": [],
   "source": [
    "from collections import Counter\n",
    "list1 = '1000000000'\n",
    "dict1 = Counter(list1)"
   ]
  },
  {
   "cell_type": "code",
   "execution_count": 17,
   "metadata": {},
   "outputs": [
    {
     "data": {
      "text/plain": [
       "Counter({'1': 1, '0': 9})"
      ]
     },
     "execution_count": 17,
     "metadata": {},
     "output_type": "execute_result"
    }
   ],
   "source": [
    "dict1 "
   ]
  },
  {
   "cell_type": "code",
   "execution_count": 20,
   "metadata": {},
   "outputs": [
    {
     "data": {
      "text/plain": [
       "[(0, '1'),\n",
       " (1, '0'),\n",
       " (2, '0'),\n",
       " (3, '0'),\n",
       " (4, '0'),\n",
       " (5, '0'),\n",
       " (6, '0'),\n",
       " (7, '0'),\n",
       " (8, '0'),\n",
       " (9, '0')]"
      ]
     },
     "execution_count": 20,
     "metadata": {},
     "output_type": "execute_result"
    }
   ],
   "source": [
    "list(enumerate(list1))"
   ]
  },
  {
   "cell_type": "code",
   "execution_count": null,
   "metadata": {},
   "outputs": [],
   "source": [
    "1. between 0 to 9 - occurring thrice\n",
    "2. all digits between 1 to 6\n",
    "3. three consecutively increasing or decreasing digits"
   ]
  },
  {
   "cell_type": "code",
   "execution_count": 57,
   "metadata": {},
   "outputs": [],
   "source": [
    "Trial and error!\n",
    "\n",
    "def magic_num(num):\n",
    "    from collections import Counter\n",
    "    l=str(num)\n",
    "    dict1=Counter(l)\n",
    "    magic=False\n",
    "    c=0\n",
    "    \n",
    "    for k, v in dict1.items():\n",
    "        if v%3 ==0:\n",
    "            c+=1\n",
    "            \n",
    "    print(c)\n",
    "    if c==len(dict1):\n",
    "        print(\"num is a magic number\")\n",
    "       \n",
    "            \n",
    "#         elif int(k)<=6:\n",
    "#             magic=True\n",
    "#             break\n",
    "        \n",
    "            \n",
    "        \n",
    "            \n",
    "#     return \"num is a magic number\" if magic else \"num is not a magic number\"\n",
    "            \n",
    "       "
   ]
  },
  {
   "cell_type": "code",
   "execution_count": 58,
   "metadata": {},
   "outputs": [
    {
     "name": "stdout",
     "output_type": "stream",
     "text": [
      "1\n"
     ]
    }
   ],
   "source": [
    "magic_num('1000000000')"
   ]
  },
  {
   "cell_type": "code",
   "execution_count": 122,
   "metadata": {},
   "outputs": [],
   "source": [
    "# if all digits between 1 to 6 then it is a magic number\n",
    "#1. between 0 to 9 - occurring thrice\n",
    "\n",
    "#it works for the second task\n",
    "def magic_num(num, given):\n",
    "    from collections import Counter\n",
    "    l=num\n",
    "    d={}\n",
    "    for i in str(num):\n",
    "        d[int(i)]=d.get(int(i), 0)+1\n",
    "        \n",
    "        \n",
    "    for i in given:\n",
    "        if i in d:\n",
    "            return \"no magic\"\n",
    "        \n",
    "        \n",
    "    for k, v in d.items():\n",
    "        if v%3 ==0:\n",
    "            break\n",
    "        \n",
    "        \n",
    "          \n",
    "    return \"magic\"\n",
    "            \n",
    "            \n",
    "            \n",
    "    \n",
    "        \n",
    "    \n",
    "   \n",
    "    \n",
    "#     return [\"no magic\" if i in d else \"magic\" for i in given]\n",
    "    \n"
   ]
  },
  {
   "cell_type": "code",
   "execution_count": 123,
   "metadata": {},
   "outputs": [
    {
     "data": {
      "text/plain": [
       "'magic'"
      ]
     },
     "execution_count": 123,
     "metadata": {},
     "output_type": "execute_result"
    }
   ],
   "source": [
    "magic_num('1666446655', [0,7,8,9])"
   ]
  },
  {
   "cell_type": "code",
   "execution_count": 131,
   "metadata": {},
   "outputs": [],
   "source": [
    "def magic(num):\n",
    "    from collections import Counter\n",
    "    l=num\n",
    "    d={}\n",
    "    N=len(str(num))\n",
    "    for i in range(N-2, -1, -1):\n",
    "        j=i+1\n",
    "        \n",
    "        \n",
    "        \n",
    "        "
   ]
  },
  {
   "cell_type": "code",
   "execution_count": 132,
   "metadata": {},
   "outputs": [
    {
     "name": "stdout",
     "output_type": "stream",
     "text": [
      "8\n",
      "7\n",
      "6\n",
      "5\n",
      "4\n",
      "3\n",
      "2\n",
      "1\n",
      "0\n"
     ]
    }
   ],
   "source": [
    "magic(1666446655)"
   ]
  },
  {
   "cell_type": "code",
   "execution_count": null,
   "metadata": {},
   "outputs": [],
   "source": []
  },
  {
   "cell_type": "code",
   "execution_count": null,
   "metadata": {},
   "outputs": [],
   "source": []
  },
  {
   "cell_type": "code",
   "execution_count": null,
   "metadata": {},
   "outputs": [],
   "source": [
    "3. three consecutively increasing or decreasing digits"
   ]
  },
  {
   "cell_type": "code",
   "execution_count": null,
   "metadata": {},
   "outputs": [],
   "source": [
    "for i in given:\n",
    "        if i in d:\n",
    "            return \"no magic\"\n",
    "        \n",
    "        \n",
    "    for k, v in d.items():\n",
    "        if v%3 ==0:\n",
    "            break\n",
    "        \n",
    "        "
   ]
  },
  {
   "cell_type": "code",
   "execution_count": 166,
   "metadata": {},
   "outputs": [],
   "source": [
    "def magic_num(num):\n",
    "    nomagic=False\n",
    "    d={}\n",
    "    while num>1:\n",
    "        digit=num%10\n",
    "        num=num//10\n",
    "        \n",
    "        \n",
    "        d[digit]=d.get(digit, 0)+1\n",
    "\n",
    "        \n",
    "        \n",
    "        if digit in [0,7,8,9]:\n",
    "            nomagic=True\n",
    "            break\n",
    "\n",
    "                    \n",
    "                    \n",
    "    if nomagic==True:\n",
    "        return \"no magic\"\n",
    "    \n",
    "    else:\n",
    "        return \"magic\"\n",
    "        \n",
    "                    \n",
    "        \n",
    "                \n",
    "        \n",
    "            \n",
    "    \n",
    "    "
   ]
  },
  {
   "cell_type": "code",
   "execution_count": 167,
   "metadata": {},
   "outputs": [
    {
     "data": {
      "text/plain": [
       "'magic'"
      ]
     },
     "execution_count": 167,
     "metadata": {},
     "output_type": "execute_result"
    }
   ],
   "source": [
    "magic_num(1133446655)"
   ]
  },
  {
   "cell_type": "code",
   "execution_count": 155,
   "metadata": {},
   "outputs": [
    {
     "data": {
      "text/plain": [
       "2"
      ]
     },
     "execution_count": 155,
     "metadata": {},
     "output_type": "execute_result"
    }
   ],
   "source": [
    "2%3"
   ]
  },
  {
   "cell_type": "code",
   "execution_count": null,
   "metadata": {},
   "outputs": [],
   "source": []
  }
 ],
 "metadata": {
  "kernelspec": {
   "display_name": "Python 3",
   "language": "python",
   "name": "python3"
  },
  "language_info": {
   "codemirror_mode": {
    "name": "ipython",
    "version": 3
   },
   "file_extension": ".py",
   "mimetype": "text/x-python",
   "name": "python",
   "nbconvert_exporter": "python",
   "pygments_lexer": "ipython3",
   "version": "3.7.4"
  }
 },
 "nbformat": 4,
 "nbformat_minor": 2
}
