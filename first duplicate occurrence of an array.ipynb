{
 "cells": [
  {
   "cell_type": "code",
   "execution_count": 38,
   "metadata": {},
   "outputs": [],
   "source": [
    "#first duplicate\n",
    "\n",
    "def first_duplicate(l, num):\n",
    "    from collections import defaultdict\n",
    "    result=[]\n",
    "    d=defaultdict(list)\n",
    "    for i in range(len(l)):\n",
    "        d[l[i]].append(i)\n",
    "        \n",
    "    if num in d and len(d[num])>1:\n",
    "        result.append(d[num][1])\n",
    "    elif num in d and len(d[num])==1:\n",
    "        result.extend(d[num])\n",
    "    else:\n",
    "        result.append(-1)\n",
    "        \n",
    "    return result, d\n",
    "    "
   ]
  },
  {
   "cell_type": "code",
   "execution_count": 39,
   "metadata": {},
   "outputs": [
    {
     "data": {
      "text/plain": [
       "([-1], defaultdict(list, {2: [0, 1, 5], 4: [2, 6], 5: [3], 6: [4, 7]}))"
      ]
     },
     "execution_count": 39,
     "metadata": {},
     "output_type": "execute_result"
    }
   ],
   "source": [
    "first_duplicate([2,2,4,5,6,2,4,6], 10)"
   ]
  },
  {
   "cell_type": "code",
   "execution_count": null,
   "metadata": {},
   "outputs": [],
   "source": [
    "So the above cell has one interpretation of the problem of finding the first duplicate and in the cell below you can\n",
    "find another interpretation"
   ]
  },
  {
   "cell_type": "code",
   "execution_count": 41,
   "metadata": {},
   "outputs": [
    {
     "name": "stdout",
     "output_type": "stream",
     "text": [
      "[2, 4]\n",
      "first dup 2\n"
     ]
    }
   ],
   "source": [
    "This problem solves for finding the item in the given array which duplicates the array by reoccurring. If so find that element\n",
    "that duplicates the array first time\n",
    "\n",
    "from collections import Counter\n",
    "list1 = [1,2,2,3,4,4]\n",
    "dict1 = Counter(list1)\n",
    "duplist = [key for (key,value) in dict1.items() if value >1]\n",
    "print(duplist)\n",
    "for item in list1:\n",
    "    if item in duplist:\n",
    "        print ('first dup',item )\n",
    "        break"
   ]
  }
 ],
 "metadata": {
  "kernelspec": {
   "display_name": "Python 3",
   "language": "python",
   "name": "python3"
  },
  "language_info": {
   "codemirror_mode": {
    "name": "ipython",
    "version": 3
   },
   "file_extension": ".py",
   "mimetype": "text/x-python",
   "name": "python",
   "nbconvert_exporter": "python",
   "pygments_lexer": "ipython3",
   "version": "3.7.4"
  }
 },
 "nbformat": 4,
 "nbformat_minor": 2
}
