{
 "cells": [
  {
   "cell_type": "code",
   "execution_count": 41,
   "metadata": {},
   "outputs": [
    {
     "data": {
      "text/plain": [
       "defaultdict(list,\n",
       "            {2: [5, 9, 6, 3, 4, 8, 15, 12],\n",
       "             5: [9, 6, 5, 5, 8, 15, 12],\n",
       "             9: [9, 9, 9, 9, 15, 12],\n",
       "             6: [6, 6, 8, 15, 12],\n",
       "             3: [4, 8, 15, 12],\n",
       "             4: [8, 15, 12],\n",
       "             8: [15, 12],\n",
       "             15: [15],\n",
       "             12: [12]})"
      ]
     },
     "execution_count": 41,
     "metadata": {},
     "output_type": "execute_result"
    }
   ],
   "source": [
    "Replace each number by its next bigger number from right side of current index. if no bigger number found print that number itself. \n",
    "\n",
    "Eg: 2,5,9,6,3,4,8,15,12 \n",
    "OutPut : 3,6,12,8,4,8,12,15,12\n",
    "\n",
    "\n",
    "def fn_name(l):\n",
    "    from collections import defaultdict\n",
    "    d=defaultdict(list)\n",
    "    result=[]\n",
    "    for i in range(len(l)):\n",
    "        if len(l[i+1:])>=1:\n",
    "            for j in l[i+1:]:\n",
    "                if j>l[i]:\n",
    "                    d[l[i]].append(j)\n",
    "                \n",
    "                \n",
    "                elif j<=l[i]:\n",
    "                    d[l[i]].append(l[i])\n",
    "\n",
    "       \n",
    "        \n",
    "                    \n",
    "        else:\n",
    "            d[l[-1]].append(l[-1])\n",
    "                \n",
    "    for k, v in d.items():\n",
    "        result.append(min(v))\n",
    "        \n",
    "    return d\n",
    "                \n",
    "\n",
    "# while i!=l[-1]:\n",
    "fn_name([2,5,9,6,3,4,8,15,12])"
   ]
  },
  {
   "cell_type": "code",
   "execution_count": 12,
   "metadata": {},
   "outputs": [
    {
     "data": {
      "text/plain": [
       "[6, 3, 4, 8, 15, 12]"
      ]
     },
     "execution_count": 12,
     "metadata": {},
     "output_type": "execute_result"
    }
   ],
   "source": [
    "sample=[9, 6, 3, 4, 8, 15, 12]\n",
    "sample[0+1:]"
   ]
  },
  {
   "cell_type": "code",
   "execution_count": 20,
   "metadata": {},
   "outputs": [
    {
     "data": {
      "text/plain": [
       "0"
      ]
     },
     "execution_count": 20,
     "metadata": {},
     "output_type": "execute_result"
    }
   ],
   "source": [
    "len([])"
   ]
  },
  {
   "cell_type": "code",
   "execution_count": 45,
   "metadata": {},
   "outputs": [
    {
     "data": {
      "text/plain": [
       "[3, 6, 12, 8, 4, 8, 12, 15, 12]"
      ]
     },
     "execution_count": 45,
     "metadata": {},
     "output_type": "execute_result"
    }
   ],
   "source": [
    "def fn_name(l):\n",
    "    from collections import defaultdict\n",
    "    d=defaultdict(list)\n",
    "    result=[]\n",
    "    for i in range(len(l)):\n",
    "        if len(l[i+1:])>1:\n",
    "            for j in l[i+1:]:\n",
    "                if j>l[i]:\n",
    "                    d[l[i]].append(j)\n",
    "                \n",
    "                \n",
    "        \n",
    "        elif len(l[i+1:])==1:\n",
    "            if l[i+1:][0]>l[i]:\n",
    "                d[l[i]].append(l[i+1:])\n",
    "            else:\n",
    "                d[l[i]].append(l[i])\n",
    "       \n",
    "               \n",
    "        else:\n",
    "            d[l[-1]].append(l[-1])\n",
    "                \n",
    "    for k, v in d.items():\n",
    "        result.append(min(v))\n",
    "        \n",
    "    return result\n",
    "                \n",
    "\n",
    "# while i!=l[-1]:\n",
    "fn_name([2,5,9,6,3,4,8,15,12])"
   ]
  },
  {
   "cell_type": "code",
   "execution_count": 88,
   "metadata": {},
   "outputs": [],
   "source": [
    "def fn_name(l):\n",
    "    from collections import defaultdict\n",
    "#     d=defaultdict(list)\n",
    "    d={}\n",
    "    result=[]\n",
    "    for i in range(len(l)):\n",
    "        if len(l[i+1:])>=1:\n",
    "            d[l[i]]=l[i+1:]\n",
    "            \n",
    "#         else:\n",
    "#             d[l[-1]]=l[-1]\n",
    "            \n",
    "    for k, v in d.items():\n",
    "        result.append(min(v))\n",
    "        \n",
    "    return d\n",
    "\n"
   ]
  },
  {
   "cell_type": "code",
   "execution_count": 89,
   "metadata": {},
   "outputs": [
    {
     "data": {
      "text/plain": [
       "{2: [5, 9, 6, 3, 4, 8, 15, 12],\n",
       " 5: [9, 6, 3, 4, 8, 15, 12],\n",
       " 9: [6, 3, 4, 8, 15, 12],\n",
       " 6: [3, 4, 8, 15, 12],\n",
       " 3: [4, 8, 15, 12],\n",
       " 4: [8, 15, 12],\n",
       " 8: [15, 12],\n",
       " 15: [12]}"
      ]
     },
     "execution_count": 89,
     "metadata": {},
     "output_type": "execute_result"
    }
   ],
   "source": [
    "fn_name([2,5,9,6,3,4,8,15,12])"
   ]
  },
  {
   "cell_type": "code",
   "execution_count": 257,
   "metadata": {},
   "outputs": [],
   "source": [
    "#Got this working for the first element in the list. not sure why the for loop not working. will get back to this.\n",
    "def fn_name2(l):\n",
    "    from collections import defaultdict\n",
    "\n",
    "    import math\n",
    "    stack=[]\n",
    "    element=defaultdict(list)\n",
    "    last=len(l)-1\n",
    "    diff=max(l)\n",
    "    for i in range(len(l)-1):\n",
    "        while l.index(l[last])>l.index(l[i]):\n",
    "            if abs(l[i]-l[last])<diff:\n",
    "                \n",
    "                element[l[i]].append(l[last])\n",
    "                diff=abs(l[i]-l[last])\n",
    "                \n",
    "            last-=1\n",
    "        continue\n",
    "#         print(element)\n",
    "#         i+=1\n",
    "\n",
    "    return element\n",
    "        \n",
    "        \n",
    "        \n",
    "        \n",
    "        \n",
    "        \n",
    "#                 \n",
    "#                 if len(stack)==0:\n",
    "#                     stack.append(abs(l[i]-l[last]))\n",
    "#                     element[l[i]].append(l[last])\n",
    "                    \n",
    "#                 else:\n",
    "#                     if stack[0]>(abs(l[i]-l[last])):\n",
    "#                         stack.pop(0)\n",
    "#                         stack.append(abs(l[i]-l[last]))\n",
    "                       \n",
    "                        \n",
    "                        \n",
    "#                     else:\n",
    "#                         pass        \n",
    "            \n",
    "           \n",
    "            \n",
    "            \n",
    "       \n",
    "        \n",
    "        \n",
    "#     return element\n",
    "        \n",
    "        \n",
    "        \n",
    "            \n",
    "\n",
    "            \n",
    "        \n",
    "            \n",
    "        \n",
    "       "
   ]
  },
  {
   "cell_type": "code",
   "execution_count": 258,
   "metadata": {},
   "outputs": [
    {
     "data": {
      "text/plain": [
       "defaultdict(list, {2: [12, 8, 4, 3]})"
      ]
     },
     "execution_count": 258,
     "metadata": {},
     "output_type": "execute_result"
    }
   ],
   "source": [
    "fn_name2([2,5,9,6,3,4,8,15,12])"
   ]
  },
  {
   "cell_type": "code",
   "execution_count": 106,
   "metadata": {},
   "outputs": [],
   "source": [
    "stack=[9]"
   ]
  },
  {
   "cell_type": "code",
   "execution_count": 107,
   "metadata": {},
   "outputs": [
    {
     "data": {
      "text/plain": [
       "9"
      ]
     },
     "execution_count": 107,
     "metadata": {},
     "output_type": "execute_result"
    }
   ],
   "source": [
    "stack[0]"
   ]
  },
  {
   "cell_type": "code",
   "execution_count": 108,
   "metadata": {},
   "outputs": [
    {
     "data": {
      "text/plain": [
       "9"
      ]
     },
     "execution_count": 108,
     "metadata": {},
     "output_type": "execute_result"
    }
   ],
   "source": [
    "stack.pop()"
   ]
  },
  {
   "cell_type": "code",
   "execution_count": 109,
   "metadata": {},
   "outputs": [],
   "source": [
    "stack.append(90)"
   ]
  },
  {
   "cell_type": "code",
   "execution_count": 110,
   "metadata": {},
   "outputs": [
    {
     "data": {
      "text/plain": [
       "[90]"
      ]
     },
     "execution_count": 110,
     "metadata": {},
     "output_type": "execute_result"
    }
   ],
   "source": [
    "stack"
   ]
  },
  {
   "cell_type": "code",
   "execution_count": 147,
   "metadata": {},
   "outputs": [
    {
     "data": {
      "text/plain": [
       "0"
      ]
     },
     "execution_count": 147,
     "metadata": {},
     "output_type": "execute_result"
    }
   ],
   "source": [
    "len([])"
   ]
  }
 ],
 "metadata": {
  "kernelspec": {
   "display_name": "Python 3",
   "language": "python",
   "name": "python3"
  },
  "language_info": {
   "codemirror_mode": {
    "name": "ipython",
    "version": 3
   },
   "file_extension": ".py",
   "mimetype": "text/x-python",
   "name": "python",
   "nbconvert_exporter": "python",
   "pygments_lexer": "ipython3",
   "version": "3.7.4"
  }
 },
 "nbformat": 4,
 "nbformat_minor": 2
}
